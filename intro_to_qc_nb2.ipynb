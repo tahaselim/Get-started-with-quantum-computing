{
 "cells": [
  {
   "cell_type": "markdown",
   "metadata": {},
   "source": [
    "#  Intro to Quantum Computing with Qiskit \n",
    "### Tutorial 2: Entanglement and Superposition\n",
    "\n",
    "|||\n",
    "|-|-|\n",
    "|**Author:** |Taha Selim|\n",
    "|**Date:** |Oct 6th, 2025|\n",
    "|**Tutrial 1:** |**1.00**<br/>*Basics of Quantum Circuits*|\n",
    "|**License:** |MIT License|\n",
    "|**Qiskit:** |2.x.x|\n",
    "|**Contact:** | t.i.m.m.selim2@hva.nl\n"
   ]
  },
  {
   "cell_type": "markdown",
   "metadata": {},
   "source": [
    "Let's import the necessary libraries and qiskit as usual."
   ]
  },
  {
   "cell_type": "code",
   "execution_count": 1,
   "metadata": {},
   "outputs": [],
   "source": [
    "# import numpy as np\n",
    "import numpy as np\n",
    "# import matplotlib\n",
    "#import matplotlib\n",
    "import matplotlib.pyplot as plt\n",
    "\n",
    "# Import qiskit libraries\n",
    "from qiskit import QuantumCircuit, ClassicalRegister, QuantumRegister\n",
    "from qiskit.circuit import Parameter\n",
    "from qiskit.quantum_info import partial_trace, Statevector\n",
    "\n",
    "from qiskit import QuantumCircuit, transpile\n",
    "from qiskit.providers.basic_provider import BasicSimulator\n",
    "from qiskit.visualization import plot_histogram\n",
    "\n",
    "\n"
   ]
  },
  {
   "cell_type": "markdown",
   "metadata": {},
   "source": [
    "### Entanglement\n",
    "\n",
    "Entanglement is a fundamental concept in quantum mechanics. It is a phenomenon where two or more qubits are correlated in such a way that the state of one qubit is coupled with the state of the other qubit. In other words, measuring one qubit will instantly determine the state of the other qubit, regardless of the distance between them. This is a simple definition of entanglement. However, a more precise definition of entanglement will come later in the upcoming tutorials.\n",
    "\n",
    "We can create entanglement using quantum gates and a minimum of two qubits. The most common gate used to create entanglement is the CNOT gate. The CNOT gate is a two-qubit gate that flips the target qubit if the control qubit is in the state $|1\\rangle$. The CNOT gate is also known as the controlled-X gate.\n",
    "\n",
    "To create entanglement, we can apply the CNOT gate to two qubits. The control qubit will be the first qubit, and the target qubit will be the second qubit. We can then measure the qubits to see if they are entangled.\n",
    "\n"
   ]
  },
  {
   "cell_type": "markdown",
   "metadata": {},
   "source": [
    "Let's create a quantum circuit of two qubits and two classical bits. Apply two Hadamard gates, one to the first qubit and the other to the second qubit. Let's look at the statevector of the qubits after applying the Hadamard gates."
   ]
  },
  {
   "cell_type": "markdown",
   "metadata": {},
   "source": [
    "#### A typical statevector of a quantum circuit of two qubits\n",
    "\n",
    "Let's create a quantum circuit with two qubits, apply a Hadamard gate to the first qubit, and then apply the CNOT gate to the qubits in which the first qubit is the control qubit and the second qubit is the target qubit. Finally, we will measure the qubits and simulate the quantum circuit using Qiskit.\n"
   ]
  },
  {
   "cell_type": "code",
   "execution_count": 2,
   "metadata": {},
   "outputs": [
    {
     "data": {
      "image/png": "[encoded data removed]",
      "text/plain": [
       "<Figure size 221.712x284.278 with 1 Axes>"
      ]
     },
     "execution_count": 2,
     "metadata": {},
     "output_type": "execute_result"
    }
   ],
   "source": [
    "# Create a quantum circuit of two qubits \n",
    "qreg =  QuantumRegister(2)\n",
    "creg = ClassicalRegister(2)\n",
    "qc = QuantumCircuit(qreg,creg)\n",
    "\n",
    "# Apply a Hadamard gate on the first qubit\n",
    "qc.h(qreg[0])\n",
    "\n",
    "# Apply a Hadamard gate on the second qubit\n",
    "qc.h(qreg[1])\n",
    "\n",
    "# Plot the circuit \n",
    "qc.draw(output='mpl')"
   ]
  },
  {
   "cell_type": "markdown",
   "metadata": {},
   "source": [
    "Let's print the statevector of the qubits after applying the Hadamard gates."
   ]
  },
  {
   "cell_type": "code",
   "execution_count": 3,
   "metadata": {},
   "outputs": [
    {
     "name": "stdout",
     "output_type": "stream",
     "text": [
      "[0.5+0.j 0.5+0.j 0.5+0.j 0.5+0.j]\n",
      "['00', '10', '01', '11']\n"
     ]
    }
   ],
   "source": [
    "# print the statevector\n",
    "state_vector = Statevector.from_instruction(qc)\n",
    "\n",
    "#print(state_vector)\n",
    "# print a table of the statevector\n",
    "print(state_vector.data)\n",
    "\n",
    "# make a list of the statevector basis states\n",
    "basis_states = []\n",
    "# for i in range(4):\n",
    "#     basis_states.append(format(i, '02b'))\n",
    "basis_states = ['00', '10', '01', '11']    # Little endian format\n",
    "\n",
    "# print the list of basis states\n",
    "print(basis_states)"
   ]
  },
  {
   "cell_type": "code",
   "execution_count": 4,
   "metadata": {},
   "outputs": [
    {
     "name": "stdout",
     "output_type": "stream",
     "text": [
      "|00>   (0.4999999999999999+0j)\n",
      "|10>   (0.4999999999999999+0j)\n",
      "|01>   (0.4999999999999999+0j)\n",
      "|11>   (0.4999999999999999+0j)\n"
     ]
    }
   ],
   "source": [
    "# print a table of the basis states and the corresponding amplitudes\n",
    "for i in range(4):\n",
    "    print('|' + basis_states[i] + '>  '\n",
    "          , state_vector.data[i])\n",
    "    "
   ]
  },
  {
   "cell_type": "markdown",
   "metadata": {},
   "source": [
    "We can also calculate the probabilities of the qubits being in the state $|00\\rangle$, $|01\\rangle$, $|10\\rangle$, and $|11\\rangle$."
   ]
  },
  {
   "cell_type": "code",
   "execution_count": 5,
   "metadata": {},
   "outputs": [
    {
     "name": "stdout",
     "output_type": "stream",
     "text": [
      "|00>   (0.4999999999999999+0j)    0.2499999999999999\n",
      "|10>   (0.4999999999999999+0j)    0.2499999999999999\n",
      "|01>   (0.4999999999999999+0j)    0.2499999999999999\n",
      "|11>   (0.4999999999999999+0j)    0.2499999999999999\n"
     ]
    }
   ],
   "source": [
    "# print a table of the basis states and the corresponding amplitudes\n",
    "for i in range(4):\n",
    "    print('|' + basis_states[i] + '>  '\n",
    "          , state_vector.data[i], '  ', np.abs(state_vector.data[i])**2)"
   ]
  },
  {
   "cell_type": "markdown",
   "metadata": {},
   "source": [
    "We can also run the quantum circuit on a quantum simulator and plot the histogram of the results."
   ]
  },
  {
   "cell_type": "code",
   "execution_count": 6,
   "metadata": {},
   "outputs": [
    {
     "name": "stdout",
     "output_type": "stream",
     "text": [
      "{'11 00': 258, '10 00': 245, '01 00': 262, '00 00': 259}\n"
     ]
    },
    {
     "data": {
      "image/png": "[encoded data removed]",
      "text/plain": [
       "<Figure size 640x480 with 1 Axes>"
      ]
     },
     "execution_count": 6,
     "metadata": {},
     "output_type": "execute_result"
    }
   ],
   "source": [
    "# Create a quantum circuit of two qubits \n",
    "qreg =  QuantumRegister(2)\n",
    "creg = ClassicalRegister(2)\n",
    "qc = QuantumCircuit(qreg,creg)\n",
    "\n",
    "# Apply a Hadamard gate on the first qubit\n",
    "qc.h(qreg[0])\n",
    "\n",
    "# Apply a Hadamard gate on the second qubit\n",
    "qc.h(qreg[1])\n",
    "\n",
    "# Perform the measurements \n",
    "qc.measure_all()\n",
    "\n",
    "\n",
    "# Specify the backend (the simulator)\n",
    "simulator = BasicSimulator()\n",
    "\n",
    "# Transpile the circuit for the simulator\n",
    "compiled_qc = transpile(qc, simulator)\n",
    "\n",
    "# Run the compiled circuit\n",
    "job = simulator.run(compiled_qc)\n",
    "\n",
    "# Get the result\n",
    "result = job.result()\n",
    "\n",
    "# Print the counts\n",
    "print(result.get_counts())\n",
    "\n",
    "# Plot the histogram\n",
    "plot_histogram(result.get_counts())"
   ]
  },
  {
   "cell_type": "markdown",
   "metadata": {},
   "source": [
    "CNOT gate is a two-qubit gate that flips the target qubit if the control qubit is in the state $|1\\rangle$. The CNOT gate is also known as the controlled-X gate. It is represented by the following matrix:\n",
    "\n",
    "$$\n",
    "\\begin{bmatrix}\n",
    "1 & 0 & 0 & 0 \\\\\n",
    "0 & 1 & 0 & 0 \\\\\n",
    "0 & 0 & 0 & 1 \\\\\n",
    "0 & 0 & 1 & 0 \\\\\n",
    "\\end{bmatrix}\n",
    "$$\n",
    "\n",
    "The CNOT gate flips the target qubit if the control qubit is in the state $|1\\rangle$. The CNOT gate does nothing if the control qubit is in the state $|0\\rangle$.\n",
    "\n",
    "We use CNOT gate to create entanglement between two qubits. The control qubit will be the first qubit, and the target qubit will be the second qubit. We can then measure the qubits to see if they are entangled.\n",
    "\n",
    "Let's play a bit with the CNOT gate and see how it works."
   ]
  },
  {
   "cell_type": "markdown",
   "metadata": {},
   "source": [
    "We can understand the action of the `CNOT` gate as follows. The Hadamard gate creates a superposition of the states |0> and |1> in the first qubit. The `CNOT` gate flips the state of the second qubit if the first qubit is in the state |1>. Hence, we have 50% probability of measuring the first qubit in state |0> and the second qubit in state |0>, and 50% probability of measuring the first qubit in state |1> and the second qubit in state |1>.\n",
    "\n",
    "Let's now summarize the above explanation in the table below. It is called the truth table of the `CNOT` gate. \n",
    "\n",
    "Complete the table by filling the output column of measuring the second qubit. Note that, `CNOT` gate has the first qubit as the control qubit and the second qubit as the target qubit. \n",
    "\n",
    "|First qubit | Second qubit | Output |\n",
    "|------------|--------------|--------|\n",
    "|0           | 0            |        |\n",
    "|0           | 1            |        |\n",
    "|1           | 0            |        |\n",
    "|1           | 1            |        |\n",
    "\n",
    "\n",
    "\n",
    "Discuss with your teacher or classmates the results you have obtained.\n"
   ]
  },
  {
   "cell_type": "markdown",
   "metadata": {},
   "source": [
    "===================================================================================================="
   ]
  },
  {
   "cell_type": "markdown",
   "metadata": {},
   "source": [
    "Now, let's check the entanglement state."
   ]
  },
  {
   "cell_type": "markdown",
   "metadata": {},
   "source": [
    "Activity: \n",
    "\n",
    "Now, construct quantum circuit of \n",
    "- a quantum register of two qubits \n",
    "- a classical register two classical bits. \n",
    "\n",
    "Apply the following gates: \n",
    "\n",
    "- Hadamard gate to the first qubit \n",
    "- and the CNOT gate to the qubits where the first qubit is the control qubit and the second qubit is the target qubit.\n",
    "\n",
    "\n",
    "Then, print the statevector of the qubits."
   ]
  },
  {
   "cell_type": "code",
   "execution_count": 7,
   "metadata": {},
   "outputs": [
    {
     "data": {
      "image/png": "[encoded data removed]",
      "text/plain": [
       "<Figure size 305.727x284.278 with 1 Axes>"
      ]
     },
     "execution_count": 7,
     "metadata": {},
     "output_type": "execute_result"
    }
   ],
   "source": [
    "# Create a quantum circuit of two qubits and a classical register of two bits\n",
    "qreg =  QuantumRegister(2)\n",
    "creg = ClassicalRegister(2)\n",
    "qc = QuantumCircuit(qreg,creg)\n",
    "\n",
    "# apply a Hadamard gate on the first qubit\n",
    "qc.h(qreg[0])\n",
    "\n",
    "# apply CNOT gate with the first qubit as control and the second qubit as target\n",
    "qc.cx(qreg[0], qreg[1])\n",
    "\n",
    "# draw the circuit\n",
    "qc.draw(output='mpl')"
   ]
  },
  {
   "cell_type": "markdown",
   "metadata": {},
   "source": [
    "Let's have a peak at the statevector of the qubits."
   ]
  },
  {
   "cell_type": "code",
   "execution_count": 8,
   "metadata": {},
   "outputs": [
    {
     "name": "stdout",
     "output_type": "stream",
     "text": [
      "|00>   (0.7071067811865475+0j)    0.4999999999999999\n",
      "|10>   0j    0.0\n",
      "|01>   0j    0.0\n",
      "|11>   (0.7071067811865475+0j)    0.4999999999999999\n"
     ]
    }
   ],
   "source": [
    "# print the statevector\n",
    "state_vector = Statevector.from_instruction(qc)\n",
    "\n",
    "# print a table of the statevector\n",
    "for i in range(4):\n",
    "    print('|' + basis_states[i] + '>  '\n",
    "          , state_vector.data[i], '  ', np.abs(state_vector.data[i])**2)"
   ]
  },
  {
   "cell_type": "markdown",
   "metadata": {},
   "source": [
    "Activity: What do you observe from the statevector of the qubits?  What can you say about the entanglement state of the qubits?"
   ]
  },
  {
   "cell_type": "markdown",
   "metadata": {},
   "source": [
    "===================================================================================================="
   ]
  },
  {
   "cell_type": "markdown",
   "metadata": {},
   "source": [
    "Let's now simulate the quantum circuit using Qiskit and plot the histogram of the results."
   ]
  },
  {
   "cell_type": "code",
   "execution_count": 9,
   "metadata": {},
   "outputs": [
    {
     "name": "stdout",
     "output_type": "stream",
     "text": [
      "{'11 00': 513, '00 00': 511}\n"
     ]
    },
    {
     "data": {
      "image/png": "[encoded data removed]",
      "text/plain": [
       "<Figure size 640x480 with 1 Axes>"
      ]
     },
     "execution_count": 9,
     "metadata": {},
     "output_type": "execute_result"
    }
   ],
   "source": [
    "# Construct the circuit again \n",
    "qreg =  QuantumRegister(2)\n",
    "creg = ClassicalRegister(2)\n",
    "qc = QuantumCircuit(qreg,creg)\n",
    "\n",
    "# Apply a Hadamard gate on the first qubit\n",
    "qc.h(qreg[0])\n",
    "\n",
    "# apply CNOT gate with the first qubit as control and the second qubit as target\n",
    "qc.cx(qreg[0], qreg[1])\n",
    "\n",
    "# Perform the measurements\n",
    "qc.measure_all()\n",
    "\n",
    "# Transpile the circuit for the simulator\n",
    "compiled_qc = transpile(qc, simulator)\n",
    "\n",
    "# Run the compiled circuit\n",
    "job = simulator.run(compiled_qc)\n",
    "\n",
    "# Get the result\n",
    "result = job.result()\n",
    "\n",
    "# Draw the circuit\n",
    "qc.draw(output='mpl')\n",
    "\n",
    "# Print the counts\n",
    "print(result.get_counts())\n",
    "\n",
    "# Plot the histogram\n",
    "plot_histogram(result.get_counts())\n",
    "\n"
   ]
  },
  {
   "cell_type": "markdown",
   "metadata": {},
   "source": [
    "===================================================================================================="
   ]
  },
  {
   "cell_type": "markdown",
   "metadata": {},
   "source": [
    "Let's run the following code and analyze the results."
   ]
  },
  {
   "cell_type": "code",
   "execution_count": 10,
   "metadata": {},
   "outputs": [
    {
     "name": "stdout",
     "output_type": "stream",
     "text": [
      "{'01': 535, '00': 489}\n"
     ]
    },
    {
     "data": {
      "image/png": "[encoded data removed]",
      "text/plain": [
       "<Figure size 640x480 with 1 Axes>"
      ]
     },
     "execution_count": 10,
     "metadata": {},
     "output_type": "execute_result"
    }
   ],
   "source": [
    "\n",
    "# Create a quantum register of two qubits\n",
    "qreg = QuantumRegister(2)\n",
    "creg = ClassicalRegister(2)\n",
    "qc = QuantumCircuit(qreg, creg)\n",
    "\n",
    "# Apply H gate to the first qubit\n",
    "qc.h(qreg[0])\n",
    "\n",
    "# Apply CNOT gate\n",
    "qc.cx(qreg[0], qreg[1])\n",
    "\n",
    "qc.measure(qreg[0], creg[0])\n",
    "\n",
    "# Specify the backend (the simulator)\n",
    "simulator = BasicSimulator()\n",
    "\n",
    "# Transpile the circuit for the simulator\n",
    "compiled_circuit = transpile(qc, simulator)\n",
    "\n",
    "# Run the compiled circuit\n",
    "job = simulator.run(compiled_circuit)\n",
    "#job = Sampler().run(qc, shots = 1024)\n",
    "\n",
    "# Get the result\n",
    "result = job.result()\n",
    "\n",
    "# Print the counts\n",
    "print(result.get_counts())\n",
    "\n",
    "# Draw the circuit\n",
    "qc.draw(output='mpl')\n",
    "\n",
    "# Plot the histogram\n",
    "plot_histogram(result.get_counts())\n",
    "\n",
    "\n",
    "#################################################\n"
   ]
  },
  {
   "cell_type": "markdown",
   "metadata": {},
   "source": [
    "#### Bell States\n",
    "\n",
    "The Bell states are a set of four maximally entangled quantum states. The Bell states are named after John Bell, who discovered them. \n",
    "\n",
    "Typically, for a quantum computer of two qubits, we have states like |00> and |01> and |00> and |10>. These called the basis of the qubit space or more percisely the computational basis of the qubit Hilbert space. \n",
    "\n",
    "We can represent the qubit space as a vector space with basis vectors:\n",
    "\n",
    "|00>, \n",
    "|01>,\n",
    "|10>,\n",
    "|11>.\n",
    "\n",
    "ince we have two qubits: each qubit has the possibility of being in the state |0> or |1>. Hence, we have 4 possible states: |00>, |01>, |10>, and |11>. These are the basis of the qubit space. Be careful now that the basis are arranged in a convention called the big-endian convention. This means that the first qubit is the most significant bit and the second qubit is the least significant bit. In other words we start counting qubits from the left to the right. This is important to remember when we are working with qubits since qiskit is using little-endian convention; the counting start from the right to the left."
   ]
  },
  {
   "cell_type": "markdown",
   "metadata": {},
   "source": [
    "\n",
    "Typically since the qubits are initialized in the state |0>, the state of the qubits is |00>. When apply a hadmard gate on the first qubit we put the first qubit in a superposition of the states |0> and |1>. \n",
    "Hence, the state of the qubits is now \n",
    "\n",
    "$$|q_1 q_2 > = \\frac{1}{\\sqrt{2}}[|00> + |10>]. $$\n",
    "\n",
    "We notice that the second qubit stays zero or in the |0> state. This is because the Hadamard gate is applied to the first qubit only. \n",
    "\n",
    "Let's see what happens when we apply the Hadamard gate to the first qubit and the `CNOT` gate to the two qubits. The `CNOT` gate flips the state of the second qubit if the first qubit is in the state |1>. Then, the statevector of the qubits is\n",
    "\n",
    "$$ |qq> = |00> + |11>. $$\n",
    "\n",
    "\n",
    "Here, we see an interesting state, and Entangled state. This is called the Bell state. It is a superposition of the states |00> and |11>. It is a very important state in quantum computing, and it is used in many quantum algorithms and quantum communication protocols.\n"
   ]
  },
  {
   "cell_type": "markdown",
   "metadata": {},
   "source": [
    "\n",
    "Activity: Create a quantum circuit with two qubits and two classical bits. Apply the Hadamard gate to the first qubit and the `CNOT` gate to the two qubits. Then measure each qubit simultaneously, run the circuit on the simulator, and see the results. Leverage the code that you have developed in the previous tasks.\n",
    "\n",
    "You might use the following syntax to measure both qubits simultaneously:\n",
    "\n",
    "```python\n",
    "\n",
    "qc.measure(qreg, creg)\n",
    "\n",
    "```"
   ]
  },
  {
   "cell_type": "code",
   "execution_count": 11,
   "metadata": {},
   "outputs": [
    {
     "name": "stdout",
     "output_type": "stream",
     "text": [
      "{'11': 515, '00': 509}\n"
     ]
    },
    {
     "data": {
      "image/png": "[encoded data removed]",
      "text/plain": [
       "<Figure size 640x480 with 1 Axes>"
      ]
     },
     "execution_count": 11,
     "metadata": {},
     "output_type": "execute_result"
    }
   ],
   "source": [
    "# Write your code here\n",
    "#################################################\n",
    "\n",
    "# Create a quantum register of 2 qubits\n",
    "qreg = QuantumRegister(2)\n",
    "\n",
    "# create a classical register of 2 bits\n",
    "creg = ClassicalRegister(2)\n",
    "\n",
    "# create a quantum circuit\n",
    "qc = QuantumCircuit(qreg, creg)\n",
    "\n",
    "# apply hadamard gate to the first qubit\n",
    "qc.h(qreg[0])\n",
    "\n",
    "#qc.h(qreg[1])\n",
    "\n",
    "# Apply CNOT gate to the first and second qubit, where the \n",
    "# first qubit is the control qubit and the second qubit is the target qubit\n",
    "qc.cx(qreg[0], qreg[1])\n",
    "\n",
    "#qc.measure(qreg[0], creg[0])\n",
    "\n",
    "qc.measure(qreg, creg)\n",
    "# Specify the backend (the simulator)\n",
    "simulator = BasicSimulator()\n",
    "\n",
    "# Transpile the circuit for the simulator\n",
    "compiled_circuit = transpile(qc, simulator)\n",
    "\n",
    "# Run the compiled circuit\n",
    "job = simulator.run(compiled_circuit)\n",
    "#job = Sampler().run(qc, shots = 1024)\n",
    "\n",
    "# Get the result\n",
    "result = job.result()\n",
    "\n",
    "# Print the counts\n",
    "print(result.get_counts())\n",
    "\n",
    "# Plot the histogram\n",
    "plot_histogram(result.get_counts())\n",
    "\n",
    "#################################################"
   ]
  },
  {
   "cell_type": "markdown",
   "metadata": {},
   "source": [
    "We can achieve the entaglement by another group of gates. \n",
    "\n",
    "Create a quantum circuit of two qubits and two classical bits, apply the Puali-X gate to the second qubit, followed by a Hadamard gate on the first qubit, and then the `CNOT` gate to the two qubits. Then, measure all, run the circuit on the simulator, and see the results."
   ]
  },
  {
   "cell_type": "code",
   "execution_count": 12,
   "metadata": {},
   "outputs": [
    {
     "name": "stdout",
     "output_type": "stream",
     "text": [
      "{'10': 529, '01': 495}\n"
     ]
    },
    {
     "data": {
      "image/png": "[encoded data removed]",
      "text/plain": [
       "<Figure size 640x480 with 1 Axes>"
      ]
     },
     "execution_count": 12,
     "metadata": {},
     "output_type": "execute_result"
    }
   ],
   "source": [
    "# Write your code here\n",
    "#################################################\n",
    "\n",
    "# Create a quantum register of 2 qubits\n",
    "qreg = QuantumRegister(2)\n",
    "\n",
    "# create a classical register of 2 bits\n",
    "creg = ClassicalRegister(2)\n",
    "\n",
    "# create a quantum circuit\n",
    "qc = QuantumCircuit(qreg, creg)\n",
    "\n",
    "# apply pauli-x gate to the seoncd qubit\n",
    "qc.x(qreg[1])\n",
    "\n",
    "# apply hadamard gate to the first qubit\n",
    "qc.h(qreg[0])\n",
    "\n",
    "# Apply CNOT gate to the first and second qubit, where the\n",
    "# first qubit is the control qubit and the second qubit is the target qubit\n",
    "qc.cx(qreg[0], qreg[1])\n",
    "\n",
    "# measure the qubits\n",
    "qc.measure(qreg, creg)\n",
    "\n",
    "# Specify the backend (the simulator)\n",
    "simulator = BasicSimulator()\n",
    "\n",
    "# Transpile the circuit for the simulator\n",
    "compiled_circuit = transpile(qc, simulator)\n",
    "\n",
    "# Run the compiled circuit\n",
    "job = simulator.run(compiled_circuit)\n",
    "\n",
    "# Get the result\n",
    "result = job.result()\n",
    "\n",
    "# Print the counts\n",
    "print(result.get_counts())\n",
    "\n",
    "# Plot the histogram\n",
    "plot_histogram(result.get_counts())"
   ]
  },
  {
   "cell_type": "code",
   "execution_count": null,
   "metadata": {},
   "outputs": [],
   "source": []
  }
 ],
 "metadata": {
  "kernelspec": {
   "display_name": "qiskit2p0",
   "language": "python",
   "name": "python3"
  },
  "language_info": {
   "codemirror_mode": {
    "name": "ipython",
    "version": 3
   },
   "file_extension": ".py",
   "mimetype": "text/x-python",
   "name": "python",
   "nbconvert_exporter": "python",
   "pygments_lexer": "ipython3",
   "version": "3.12.11"
  }
 },
 "nbformat": 4,
 "nbformat_minor": 2
}
